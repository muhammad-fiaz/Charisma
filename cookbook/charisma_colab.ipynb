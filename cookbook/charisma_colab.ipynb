{
  "cells": [
    {
      "cell_type": "markdown",
      "id": "089ef7b2",
      "metadata": {
        "id": "089ef7b2"
      },
      "source": [
        "<a href=\"https://colab.research.google.com/github/muhammad-fiaz/Charisma/blob/main/cookbook/charisma_colab.ipynb\" target=\"_parent\"><img src=\"https://colab.research.google.com/assets/colab-badge.svg\" alt=\"Open In Colab\"/></a>"
      ]
    },
    {
      "cell_type": "markdown",
      "id": "db45c88e",
      "metadata": {
        "id": "db45c88e"
      },
      "source": [
        "# Charisma - Personal Memory Clone on Google Colab\n",
        "\n",
        "Create an AI clone of yourself using your memories from Notion, running entirely on Google Colab!\n",
        "\n",
        "\n",
        "## Features\n",
        "- 🧠 Create AI clones from your Notion memories\n",
        "- 🎯 Fine-tune models with LoRA or full fine-tuning\n",
        "- 📤 Push trained models to HuggingFace Hub\n",
        "- 🔧 Advanced model configuration\n",
        "- 💾 Local memory caching\n",
        "- 🎨 Beautiful Gradio UI\n",
        "\n",
        "## Quick Start\n",
        "\n",
        "Directly run to launch Charisma!"
      ]
    },
    {
      "cell_type": "code",
      "execution_count": null,
      "id": "8e0a3aaf",
      "metadata": {
        "id": "8e0a3aaf"
      },
      "outputs": [],
      "source": [
        "# Clone the Charisma repository\n",
        "!git clone https://github.com/muhammad-fiaz/Charisma.git\n",
        "%cd Charisma\n",
        "\n",
        "# Install Python dependencies\n",
        "%pip install -e .\n",
        "\n",
        "# Check if we're using GPU\n",
        "import torch\n",
        "print(f\"CUDA available: {torch.cuda.is_available()}\")\n",
        "if torch.cuda.is_available():\n",
        "    print(f\"GPU: {torch.cuda.get_device_name(0)}\")\n",
        "    print(f\"CUDA version: {torch.version.cuda}\")\n",
        "else:\n",
        "    print(\"⚠️  No GPU detected. Training will be slow on CPU.\")\n",
        "    \n",
        "# Launch Charisma with public sharing\n",
        "!!charisma --live"
      ]
    }
  ],
  "metadata": {
    "accelerator": "GPU",
    "colab": {
      "gpuType": "T4",
      "provenance": []
    },
    "kernelspec": {
      "display_name": "Python 3",
      "name": "python3"
    },
    "language_info": {
      "name": "python"
    }
  },
  "nbformat": 4,
  "nbformat_minor": 5
}
